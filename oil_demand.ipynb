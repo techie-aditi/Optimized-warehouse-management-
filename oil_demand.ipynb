{
 "cells": [
  {
   "cell_type": "code",
   "execution_count": 1,
   "metadata": {},
   "outputs": [],
   "source": [
    "import pandas as pd\n",
    "import numpy as np\n",
    "import matplotlib.pyplot as plt\n",
    "from sklearn.metrics import mean_squared_error  #importing basic things\n",
    "from math import sqrt"
   ]
  },
  {
   "cell_type": "code",
   "execution_count": 2,
   "metadata": {},
   "outputs": [],
   "source": [
    "from statsmodels.graphics.tsaplots import plot_acf  #autocorrelation function plot autocorrelation is basically our signal and our signal with a time lag and ur place these signals on top of one another\n",
    "from statsmodels.tsa.ar_model import AR\n",
    "from sklearn.metrics import mean_squared_error\n",
    "from statsmodels.tsa.arima_model import ARIMA #arima model"
   ]
  },
  {
   "cell_type": "code",
   "execution_count": 3,
   "metadata": {},
   "outputs": [
    {
     "data": {
      "text/html": [
       "<div>\n",
       "<style scoped>\n",
       "    .dataframe tbody tr th:only-of-type {\n",
       "        vertical-align: middle;\n",
       "    }\n",
       "\n",
       "    .dataframe tbody tr th {\n",
       "        vertical-align: top;\n",
       "    }\n",
       "\n",
       "    .dataframe thead th {\n",
       "        text-align: right;\n",
       "    }\n",
       "</style>\n",
       "<table border=\"1\" class=\"dataframe\">\n",
       "  <thead>\n",
       "    <tr style=\"text-align: right;\">\n",
       "      <th></th>\n",
       "      <th>Demand</th>\n",
       "    </tr>\n",
       "    <tr>\n",
       "      <th>Date</th>\n",
       "      <th></th>\n",
       "    </tr>\n",
       "  </thead>\n",
       "  <tbody>\n",
       "    <tr>\n",
       "      <th>2019-01-07</th>\n",
       "      <td>3500</td>\n",
       "    </tr>\n",
       "    <tr>\n",
       "      <th>2019-02-07</th>\n",
       "      <td>5000</td>\n",
       "    </tr>\n",
       "    <tr>\n",
       "      <th>2019-03-07</th>\n",
       "      <td>2000</td>\n",
       "    </tr>\n",
       "    <tr>\n",
       "      <th>2019-04-07</th>\n",
       "      <td>500</td>\n",
       "    </tr>\n",
       "    <tr>\n",
       "      <th>2019-05-07</th>\n",
       "      <td>350</td>\n",
       "    </tr>\n",
       "  </tbody>\n",
       "</table>\n",
       "</div>"
      ],
      "text/plain": [
       "            Demand\n",
       "Date              \n",
       "2019-01-07    3500\n",
       "2019-02-07    5000\n",
       "2019-03-07    2000\n",
       "2019-04-07     500\n",
       "2019-05-07     350"
      ]
     },
     "execution_count": 3,
     "metadata": {},
     "output_type": "execute_result"
    }
   ],
   "source": [
    "df = pd.read_csv('Oil_1_dataset1.csv', parse_dates=True, index_col=[0])\n",
    "df.head()"
   ]
  },
  {
   "cell_type": "code",
   "execution_count": 4,
   "metadata": {},
   "outputs": [
    {
     "data": {
      "image/png": "[encoded data removed]",
      "text/plain": [
       "<Figure size 432x288 with 1 Axes>"
      ]
     },
     "metadata": {
      "needs_background": "light"
     },
     "output_type": "display_data"
    }
   ],
   "source": [
    "df.plot()\n",
    "plt.show()"
   ]
  },
  {
   "cell_type": "code",
   "execution_count": 5,
   "metadata": {},
   "outputs": [
    {
     "data": {
      "text/html": [
       "<div>\n",
       "<style scoped>\n",
       "    .dataframe tbody tr th:only-of-type {\n",
       "        vertical-align: middle;\n",
       "    }\n",
       "\n",
       "    .dataframe tbody tr th {\n",
       "        vertical-align: top;\n",
       "    }\n",
       "\n",
       "    .dataframe thead th {\n",
       "        text-align: right;\n",
       "    }\n",
       "</style>\n",
       "<table border=\"1\" class=\"dataframe\">\n",
       "  <thead>\n",
       "    <tr style=\"text-align: right;\">\n",
       "      <th></th>\n",
       "      <th>Demand</th>\n",
       "    </tr>\n",
       "    <tr>\n",
       "      <th>Date</th>\n",
       "      <th></th>\n",
       "    </tr>\n",
       "  </thead>\n",
       "  <tbody>\n",
       "    <tr>\n",
       "      <th>2019-07-31</th>\n",
       "      <td>-3000.0</td>\n",
       "    </tr>\n",
       "    <tr>\n",
       "      <th>2019-01-08</th>\n",
       "      <td>-1500.0</td>\n",
       "    </tr>\n",
       "    <tr>\n",
       "      <th>2019-02-08</th>\n",
       "      <td>3000.0</td>\n",
       "    </tr>\n",
       "    <tr>\n",
       "      <th>2019-03-08</th>\n",
       "      <td>1500.0</td>\n",
       "    </tr>\n",
       "    <tr>\n",
       "      <th>2019-04-08</th>\n",
       "      <td>150.0</td>\n",
       "    </tr>\n",
       "  </tbody>\n",
       "</table>\n",
       "</div>"
      ],
      "text/plain": [
       "            Demand\n",
       "Date              \n",
       "2019-07-31 -3000.0\n",
       "2019-01-08 -1500.0\n",
       "2019-02-08  3000.0\n",
       "2019-03-08  1500.0\n",
       "2019-04-08   150.0"
      ]
     },
     "execution_count": 5,
     "metadata": {},
     "output_type": "execute_result"
    }
   ],
   "source": [
    "demand_diff = df.diff(periods=30)\n",
    "demand_diff = demand_diff[30:]\n",
    "demand_diff.head()"
   ]
  },
  {
   "cell_type": "code",
   "execution_count": 6,
   "metadata": {},
   "outputs": [
    {
     "data": {
      "image/png": "[encoded data removed]",
      "text/plain": [
       "<Figure size 432x288 with 1 Axes>"
      ]
     },
     "execution_count": 6,
     "metadata": {},
     "output_type": "execute_result"
    },
    {
     "data": {
      "image/png": "[encoded data removed]",
      "text/plain": [
       "<Figure size 432x288 with 1 Axes>"
      ]
     },
     "metadata": {
      "needs_background": "light"
     },
     "output_type": "display_data"
    }
   ],
   "source": [
    "plot_acf(df.values)"
   ]
  },
  {
   "cell_type": "code",
   "execution_count": 7,
   "metadata": {},
   "outputs": [
    {
     "data": {
      "text/plain": [
       "<matplotlib.axes._subplots.AxesSubplot at 0x1e9110bc788>"
      ]
     },
     "execution_count": 7,
     "metadata": {},
     "output_type": "execute_result"
    },
    {
     "data": {
      "image/png": "[encoded data removed]",
      "text/plain": [
       "<Figure size 432x288 with 1 Axes>"
      ]
     },
     "metadata": {
      "needs_background": "light"
     },
     "output_type": "display_data"
    }
   ],
   "source": [
    "demand_diff.plot()"
   ]
  },
  {
   "cell_type": "code",
   "execution_count": 8,
   "metadata": {},
   "outputs": [
    {
     "data": {
      "text/plain": [
       "(366, 1)"
      ]
     },
     "execution_count": 8,
     "metadata": {},
     "output_type": "execute_result"
    }
   ],
   "source": [
    "X = df.values\n",
    "train1 = X[0:336]\n",
    "test1 = X[336:]\n",
    "X.shape"
   ]
  },
  {
   "cell_type": "code",
   "execution_count": 24,
   "metadata": {},
   "outputs": [],
   "source": [
    "model_arima = ARIMA(train1,order=(25,1,1))"
   ]
  },
  {
   "cell_type": "code",
   "execution_count": 25,
   "metadata": {},
   "outputs": [
    {
     "name": "stdout",
     "output_type": "stream",
     "text": [
      "5433.2113522360505\n"
     ]
    }
   ],
   "source": [
    "model_arima_fit = model_arima.fit()\n",
    "print(model_arima_fit.aic)"
   ]
  },
  {
   "cell_type": "code",
   "execution_count": 26,
   "metadata": {},
   "outputs": [
    {
     "data": {
      "text/plain": [
       "[<matplotlib.lines.Line2D at 0x1e912937c88>]"
      ]
     },
     "execution_count": 26,
     "metadata": {},
     "output_type": "execute_result"
    },
    {
     "data": {
      "image/png": "[encoded data removed]",
      "text/plain": [
       "<Figure size 432x288 with 1 Axes>"
      ]
     },
     "metadata": {
      "needs_background": "light"
     },
     "output_type": "display_data"
    }
   ],
   "source": [
    "y_pred1 = model_arima_fit.forecast(steps=366)[0].tolist()\n",
    "plt.plot(test1)\n",
    "plt.plot(y_pred1 , color = 'red')"
   ]
  },
  {
   "cell_type": "code",
   "execution_count": 27,
   "metadata": {},
   "outputs": [
    {
     "data": {
      "text/plain": [
       "[1949.0594918550592,\n",
       " 2038.5540979292196,\n",
       " 1683.5054877023895,\n",
       " 1457.1407924742366,\n",
       " 1183.0267382723375,\n",
       " 917.8643289475544,\n",
       " 863.5908100355598,\n",
       " 661.7465590658655,\n",
       " 1313.1951857764407,\n",
       " 813.6096180426032,\n",
       " 205.65824689721262,\n",
       " 830.0838554739332,\n",
       " 533.9636273162596,\n",
       " 909.4077257001288,\n",
       " 403.37530878304676,\n",
       " 651.8605841275073,\n",
       " 783.0518132967558,\n",
       " 725.075601518502,\n",
       " 641.9008538982534,\n",
       " 906.8818309665637,\n",
       " 1227.05480666802,\n",
       " 730.3970072243937,\n",
       " 857.570501973744,\n",
       " 622.3121429961743,\n",
       " 600.331684661015,\n",
       " 454.1150910997319,\n",
       " 431.0643135665909,\n",
       " 922.5109652990085,\n",
       " 1141.3120784258936,\n",
       " 977.5507305360186,\n",
       " 1279.0344767159486,\n",
       " 1335.4426135804385,\n",
       " 1303.8688616405673,\n",
       " 1161.0419672378287,\n",
       " 961.9687607459666,\n",
       " 1126.712148567647,\n",
       " 837.343129910196,\n",
       " 763.4377035709379,\n",
       " 715.979197621642,\n",
       " 981.6546330359322,\n",
       " 815.0528249737068,\n",
       " 780.3278011447971,\n",
       " 833.0179799361216,\n",
       " 695.685175343272,\n",
       " 726.6551555416833,\n",
       " 511.09513581889826,\n",
       " 769.3568265924009,\n",
       " 851.1982465211097,\n",
       " 775.3431717855271,\n",
       " 821.1053873560923,\n",
       " 888.6195885325077,\n",
       " 857.3609605687386,\n",
       " 752.0227030641473,\n",
       " 656.2530434044753,\n",
       " 736.1908735607831,\n",
       " 746.9436229422907,\n",
       " 708.8860258171405,\n",
       " 826.5389499878388,\n",
       " 1004.5797157669219,\n",
       " 1112.4847863103903,\n",
       " 1060.4166317013605,\n",
       " 1170.3736477467864,\n",
       " 1088.0080912592973,\n",
       " 1052.1365397119353,\n",
       " 886.7561928839591,\n",
       " 860.6120047355182,\n",
       " 943.5259810555483,\n",
       " 823.8977771784471,\n",
       " 865.9773564695038,\n",
       " 869.8728480885142,\n",
       " 912.8182694040579,\n",
       " 832.2144231723615,\n",
       " 768.3707895440305,\n",
       " 775.4472479510536,\n",
       " 767.7264940397681,\n",
       " 718.3761461794685,\n",
       " 709.837908529503,\n",
       " 796.1381097327661,\n",
       " 835.4918363634406,\n",
       " 813.5014664695032,\n",
       " 831.4972618503957,\n",
       " 838.8879093599445,\n",
       " 799.6302388048648,\n",
       " 754.9764385412126,\n",
       " 718.811785417978,\n",
       " 821.1083628925994,\n",
       " 822.1721126623792,\n",
       " 875.4404777671372,\n",
       " 957.0340172639036,\n",
       " 1015.3448703251157,\n",
       " 1040.365588492243,\n",
       " 980.0010559456072,\n",
       " 990.2543738011601,\n",
       " 950.4683888059208,\n",
       " 908.145415067672,\n",
       " 853.1063952943241,\n",
       " 871.9068884036976,\n",
       " 895.3212152224656,\n",
       " 872.2095340665896,\n",
       " 879.4975128854888,\n",
       " 879.564928130859,\n",
       " 864.7737660466885,\n",
       " 814.7302470941908,\n",
       " 769.7202674229851,\n",
       " 780.1064956315956,\n",
       " 777.5256441904055,\n",
       " 763.5945713639156,\n",
       " 800.0694617105207,\n",
       " 824.3417652349094,\n",
       " 846.9677943233969,\n",
       " 818.418197727178,\n",
       " 816.2506751121441,\n",
       " 817.7055029960165,\n",
       " 797.6196421468602,\n",
       " 793.7599370891118,\n",
       " 809.8553353226336,\n",
       " 869.941180110705,\n",
       " 888.149855015823,\n",
       " 924.0825697063004,\n",
       " 953.0517833896845,\n",
       " 965.9638905090717,\n",
       " 950.964085454777,\n",
       " 912.3087657897139,\n",
       " 904.7356875252261,\n",
       " 888.6037930572049,\n",
       " 868.2414752780776,\n",
       " 867.8595109895859,\n",
       " 881.9542900559109,\n",
       " 890.7803830070332,\n",
       " 878.3687443854459,\n",
       " 861.9941779886611,\n",
       " 855.6793056232119,\n",
       " 828.4858524850669,\n",
       " 803.6493083101061,\n",
       " 788.6943633839571,\n",
       " 800.7460442511355,\n",
       " 806.6280673526588,\n",
       " 810.2900828026027,\n",
       " 830.0990262824762,\n",
       " 836.6926123084996,\n",
       " 839.3568686607164,\n",
       " 819.68394443704,\n",
       " 819.1353954126145,\n",
       " 822.0927090877234,\n",
       " 821.4477956891509,\n",
       " 835.9804282682909,\n",
       " 860.7837727388473,\n",
       " 892.0803413530039,\n",
       " 905.798416023223,\n",
       " 913.6969865020303,\n",
       " 919.0827550394364,\n",
       " 911.9418235538703,\n",
       " 893.6497613927206,\n",
       " 877.7650153399735,\n",
       " 874.2003580976522,\n",
       " 873.7560598046737,\n",
       " 869.3123818545181,\n",
       " 875.4051870165166,\n",
       " 878.8403603731225,\n",
       " 875.981923978312,\n",
       " 860.6212236599274,\n",
       " 844.403547231611,\n",
       " 835.5512526054517,\n",
       " 818.7422991206278,\n",
       " 811.928363860688,\n",
       " 812.4670864817298,\n",
       " 823.2524253796674,\n",
       " 829.8708493360014,\n",
       " 832.5734307649218,\n",
       " 838.6201134788416,\n",
       " 838.0702589150409,\n",
       " 833.214862415327,\n",
       " 826.4497199246842,\n",
       " 829.9590336431412,\n",
       " 838.2756921454095,\n",
       " 847.1024998417046,\n",
       " 861.7333513997193,\n",
       " 878.4921083396961,\n",
       " 890.7310857882738,\n",
       " 893.6450993163279,\n",
       " 890.1688878718492,\n",
       " 887.4359783440528,\n",
       " 878.6439721747806,\n",
       " 869.8177645972039,\n",
       " 866.3739721183325,\n",
       " 867.8605818282603,\n",
       " 871.0615929882196,\n",
       " 869.5666963645124,\n",
       " 870.3686163636421,\n",
       " 866.5671541013553,\n",
       " 857.8074141740769,\n",
       " 845.2314518654257,\n",
       " 835.3055248227056,\n",
       " 830.4089805718427,\n",
       " 825.6058129445665,\n",
       " 826.5049398056078,\n",
       " 831.2053032016782,\n",
       " 837.4316824554193,\n",
       " 839.974609960396,\n",
       " 839.386300433724,\n",
       " 839.5648311303255,\n",
       " 837.7993331090663,\n",
       " 835.4603827368926,\n",
       " 836.8928275031469,\n",
       " 843.1652032574,\n",
       " 852.5953528807387,\n",
       " 860.9007374767683,\n",
       " 869.6664407054211,\n",
       " 876.8067522354227,\n",
       " 878.5996034455934,\n",
       " 876.1650381152162,\n",
       " 871.4485684804671,\n",
       " 868.5381953413638,\n",
       " 864.6390261333706,\n",
       " 862.696382663552,\n",
       " 863.6790578989454,\n",
       " 865.6714720361654,\n",
       " 866.3513545521947,\n",
       " 863.3859870067497,\n",
       " 859.8498351343943,\n",
       " 853.866278661199,\n",
       " 846.1152513057883,\n",
       " 839.1848543522239,\n",
       " 835.3536897875954,\n",
       " 834.8185742395192,\n",
       " 835.3920465064011,\n",
       " 837.6678994651339,\n",
       " 840.9897359000616,\n",
       " 842.7804829801545,\n",
       " 842.4143057483717,\n",
       " 840.8791574605604,\n",
       " 840.4173590921147,\n",
       " 840.5998043442751,\n",
       " 841.9612584685627,\n",
       " 846.3910419613287,\n",
       " 852.5510183076618,\n",
       " 859.126922112979,\n",
       " 863.6277546848196,\n",
       " 866.8394977187476,\n",
       " 868.0499393811814,\n",
       " 866.3757770881748,\n",
       " 863.6409146841423,\n",
       " 861.1460441765439,\n",
       " 860.2934903316809,\n",
       " 859.8311749357642,\n",
       " 860.1527142510748,\n",
       " 861.1099502969062,\n",
       " 861.1001606620691,\n",
       " 859.13507711564,\n",
       " 855.2439466732135,\n",
       " 850.9116088776155,\n",
       " 846.3719486839306,\n",
       " 842.1213322278013,\n",
       " 839.7312843562108,\n",
       " 839.4347963428503,\n",
       " 840.5810786315144,\n",
       " 841.8810458369228,\n",
       " 843.0760116603024,\n",
       " 844.0657568945946,\n",
       " 843.7396373556427,\n",
       " 842.8492270077467,\n",
       " 842.2625748930999,\n",
       " 843.040684052675,\n",
       " 844.9607355070825,\n",
       " 847.8357337901072,\n",
       " 851.9363077124445,\n",
       " 855.979580836706,\n",
       " 859.0414616338883,\n",
       " 860.3847246326092,\n",
       " 860.5860505263103,\n",
       " 859.8295945364405,\n",
       " 858.2577096192726,\n",
       " 856.9614127091576,\n",
       " 856.4835414423395,\n",
       " 856.803985230149,\n",
       " 857.1592330513035,\n",
       " 857.2048268619972,\n",
       " 856.7859464342966,\n",
       " 855.1725897519335,\n",
       " 852.3963001838988,\n",
       " 849.1184194320972,\n",
       " 846.1540864136829,\n",
       " 843.9283543353166,\n",
       " 842.4962449621486,\n",
       " 842.3512710386583,\n",
       " 843.0631920464059,\n",
       " 843.9566438248505,\n",
       " 844.4603036225163,\n",
       " 844.5326825014819,\n",
       " 844.3845163621706,\n",
       " 843.8905113129773,\n",
       " 843.7220824398561,\n",
       " 844.3644969243824,\n",
       " 846.015863338669,\n",
       " 848.2957150123916,\n",
       " 850.7819047978921,\n",
       " 853.2620210585908,\n",
       " 855.0584282901939,\n",
       " 855.8329131361403,\n",
       " 855.7007554894251,\n",
       " 855.1205721262348,\n",
       " 854.448264382471,\n",
       " 853.8373097505913,\n",
       " 853.6630541392038,\n",
       " 853.9244184353474,\n",
       " 854.2065984380761,\n",
       " 854.0875612643765,\n",
       " 853.3421430326518,\n",
       " 852.0455768660937,\n",
       " 850.119833091951,\n",
       " 847.913629864072,\n",
       " 845.9693321889364,\n",
       " 844.6325188278931,\n",
       " 843.9946821136739,\n",
       " 843.8730309772809,\n",
       " 844.23691268128,\n",
       " 844.6975602945588,\n",
       " 844.9039951992305,\n",
       " 844.7798033275502,\n",
       " 844.4999617491086,\n",
       " 844.3366737389482,\n",
       " 844.406075032437,\n",
       " 844.991548963234,\n",
       " 846.1973412545385,\n",
       " 847.8167613571154,\n",
       " 849.490383695045,\n",
       " 850.9034082547649,\n",
       " 851.9139373357095,\n",
       " 852.343424512274,\n",
       " 852.2198452663207,\n",
       " 851.8421889706807,\n",
       " 851.4841583582905,\n",
       " 851.3122873944824,\n",
       " 851.297702742871,\n",
       " 851.4357664045009,\n",
       " 851.5526842615847,\n",
       " 851.3449416978108,\n",
       " 850.6835333414242,\n",
       " 849.5904479774063,\n",
       " 848.2636335117979,\n",
       " 846.8498063541548,\n",
       " 845.6133857005468,\n",
       " 844.8026391354434,\n",
       " 844.447962286596,\n",
       " 844.4347161202116,\n",
       " 844.5660890822379,\n",
       " 844.7288228228923,\n",
       " 844.7668384672082,\n",
       " 844.6126196619063,\n",
       " 844.3944561558257,\n",
       " 844.3032068554949,\n",
       " 844.4967011534054,\n",
       " 845.0134356727821,\n",
       " 845.8606599804772,\n",
       " 846.9454834544202,\n",
       " 848.0216498366083,\n",
       " 848.88156016167,\n",
       " 849.4098049879425,\n",
       " 849.6184941030973,\n",
       " 849.5558875068701,\n",
       " 849.341678441244,\n",
       " 849.171484507036,\n",
       " 849.1282551949791,\n",
       " 849.1963255392775,\n",
       " 849.2650836361822,\n",
       " 849.2385868055512]"
      ]
     },
     "execution_count": 27,
     "metadata": {},
     "output_type": "execute_result"
    }
   ],
   "source": [
    "y_pred1"
   ]
  },
  {
   "cell_type": "code",
   "execution_count": 28,
   "metadata": {},
   "outputs": [],
   "source": [
    "import pickle"
   ]
  },
  {
   "cell_type": "code",
   "execution_count": 29,
   "metadata": {},
   "outputs": [],
   "source": [
    "filename='model_oil.pkl'\n",
    "pickle.dump(model_arima_fit, open(filename, 'wb'))"
   ]
  },
  {
   "cell_type": "code",
   "execution_count": 30,
   "metadata": {},
   "outputs": [],
   "source": [
    "model = pickle.load(open(filename, 'rb'))"
   ]
  },
  {
   "cell_type": "code",
   "execution_count": null,
   "metadata": {},
   "outputs": [],
   "source": []
  }
 ],
 "metadata": {
  "kernelspec": {
   "display_name": "Python 3",
   "language": "python",
   "name": "python3"
  },
  "language_info": {
   "codemirror_mode": {
    "name": "ipython",
    "version": 3
   },
   "file_extension": ".py",
   "mimetype": "text/x-python",
   "name": "python",
   "nbconvert_exporter": "python",
   "pygments_lexer": "ipython3",
   "version": "3.7.6"
  }
 },
 "nbformat": 4,
 "nbformat_minor": 1
}
