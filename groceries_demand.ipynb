{
 "cells": [
  {
   "cell_type": "code",
   "execution_count": 1,
   "metadata": {},
   "outputs": [],
   "source": [
    "import pandas as pd\n",
    "import numpy as np\n",
    "import matplotlib.pyplot as plt\n",
    "from sklearn.metrics import mean_squared_error  #importing basic things\n",
    "from math import sqrt"
   ]
  },
  {
   "cell_type": "code",
   "execution_count": 2,
   "metadata": {},
   "outputs": [],
   "source": [
    "from statsmodels.graphics.tsaplots import plot_acf  #autocorrelation function plot autocorrelation is basically our signal and our signal with a time lag and ur place these signals on top of one another\n",
    "from statsmodels.tsa.ar_model import AR\n",
    "from sklearn.metrics import mean_squared_error\n",
    "from statsmodels.tsa.arima_model import ARIMA #arima model"
   ]
  },
  {
   "cell_type": "code",
   "execution_count": 3,
   "metadata": {},
   "outputs": [
    {
     "data": {
      "text/html": [
       "<div>\n",
       "<style scoped>\n",
       "    .dataframe tbody tr th:only-of-type {\n",
       "        vertical-align: middle;\n",
       "    }\n",
       "\n",
       "    .dataframe tbody tr th {\n",
       "        vertical-align: top;\n",
       "    }\n",
       "\n",
       "    .dataframe thead th {\n",
       "        text-align: right;\n",
       "    }\n",
       "</style>\n",
       "<table border=\"1\" class=\"dataframe\">\n",
       "  <thead>\n",
       "    <tr style=\"text-align: right;\">\n",
       "      <th></th>\n",
       "      <th>Demand</th>\n",
       "    </tr>\n",
       "    <tr>\n",
       "      <th>Date</th>\n",
       "      <th></th>\n",
       "    </tr>\n",
       "  </thead>\n",
       "  <tbody>\n",
       "    <tr>\n",
       "      <th>2019-01-07</th>\n",
       "      <td>10000</td>\n",
       "    </tr>\n",
       "    <tr>\n",
       "      <th>2019-02-07</th>\n",
       "      <td>14000</td>\n",
       "    </tr>\n",
       "    <tr>\n",
       "      <th>2019-03-07</th>\n",
       "      <td>10000</td>\n",
       "    </tr>\n",
       "    <tr>\n",
       "      <th>2019-04-07</th>\n",
       "      <td>8000</td>\n",
       "    </tr>\n",
       "    <tr>\n",
       "      <th>2019-05-07</th>\n",
       "      <td>8000</td>\n",
       "    </tr>\n",
       "  </tbody>\n",
       "</table>\n",
       "</div>"
      ],
      "text/plain": [
       "            Demand\n",
       "Date              \n",
       "2019-01-07   10000\n",
       "2019-02-07   14000\n",
       "2019-03-07   10000\n",
       "2019-04-07    8000\n",
       "2019-05-07    8000"
      ]
     },
     "execution_count": 3,
     "metadata": {},
     "output_type": "execute_result"
    }
   ],
   "source": [
    "\n",
    "\n",
    "df = pd.read_csv('Groceries_1_dataset3.csv', parse_dates=True, index_col=[0])\n",
    "df.head()\n"
   ]
  },
  {
   "cell_type": "code",
   "execution_count": 4,
   "metadata": {},
   "outputs": [
    {
     "data": {
      "image/png": "[encoded data removed]",
      "text/plain": [
       "<Figure size 432x288 with 1 Axes>"
      ]
     },
     "metadata": {
      "needs_background": "light"
     },
     "output_type": "display_data"
    }
   ],
   "source": [
    "df.plot()\n",
    "plt.show()"
   ]
  },
  {
   "cell_type": "code",
   "execution_count": 5,
   "metadata": {},
   "outputs": [
    {
     "data": {
      "text/html": [
       "<div>\n",
       "<style scoped>\n",
       "    .dataframe tbody tr th:only-of-type {\n",
       "        vertical-align: middle;\n",
       "    }\n",
       "\n",
       "    .dataframe tbody tr th {\n",
       "        vertical-align: top;\n",
       "    }\n",
       "\n",
       "    .dataframe thead th {\n",
       "        text-align: right;\n",
       "    }\n",
       "</style>\n",
       "<table border=\"1\" class=\"dataframe\">\n",
       "  <thead>\n",
       "    <tr style=\"text-align: right;\">\n",
       "      <th></th>\n",
       "      <th>Demand</th>\n",
       "    </tr>\n",
       "    <tr>\n",
       "      <th>Date</th>\n",
       "      <th></th>\n",
       "    </tr>\n",
       "  </thead>\n",
       "  <tbody>\n",
       "    <tr>\n",
       "      <th>2019-07-31</th>\n",
       "      <td>-8950.0</td>\n",
       "    </tr>\n",
       "    <tr>\n",
       "      <th>2019-01-08</th>\n",
       "      <td>-4000.0</td>\n",
       "    </tr>\n",
       "    <tr>\n",
       "      <th>2019-02-08</th>\n",
       "      <td>4000.0</td>\n",
       "    </tr>\n",
       "    <tr>\n",
       "      <th>2019-03-08</th>\n",
       "      <td>2000.0</td>\n",
       "    </tr>\n",
       "    <tr>\n",
       "      <th>2019-04-08</th>\n",
       "      <td>0.0</td>\n",
       "    </tr>\n",
       "  </tbody>\n",
       "</table>\n",
       "</div>"
      ],
      "text/plain": [
       "            Demand\n",
       "Date              \n",
       "2019-07-31 -8950.0\n",
       "2019-01-08 -4000.0\n",
       "2019-02-08  4000.0\n",
       "2019-03-08  2000.0\n",
       "2019-04-08     0.0"
      ]
     },
     "execution_count": 5,
     "metadata": {},
     "output_type": "execute_result"
    }
   ],
   "source": [
    "demand_diff = df.diff(periods=30)\n",
    "demand_diff = demand_diff[30:]\n",
    "demand_diff.head()"
   ]
  },
  {
   "cell_type": "code",
   "execution_count": 6,
   "metadata": {},
   "outputs": [
    {
     "data": {
      "image/png": "[encoded data removed]",
      "text/plain": [
       "<Figure size 432x288 with 1 Axes>"
      ]
     },
     "execution_count": 6,
     "metadata": {},
     "output_type": "execute_result"
    },
    {
     "data": {
      "image/png": "[encoded data removed]",
      "text/plain": [
       "<Figure size 432x288 with 1 Axes>"
      ]
     },
     "metadata": {
      "needs_background": "light"
     },
     "output_type": "display_data"
    }
   ],
   "source": [
    "plot_acf(df.values)"
   ]
  },
  {
   "cell_type": "code",
   "execution_count": 7,
   "metadata": {},
   "outputs": [
    {
     "data": {
      "text/plain": [
       "<matplotlib.axes._subplots.AxesSubplot at 0x209bd025f48>"
      ]
     },
     "execution_count": 7,
     "metadata": {},
     "output_type": "execute_result"
    },
    {
     "data": {
      "image/png": "[encoded data removed]",
      "text/plain": [
       "<Figure size 432x288 with 1 Axes>"
      ]
     },
     "metadata": {
      "needs_background": "light"
     },
     "output_type": "display_data"
    }
   ],
   "source": [
    "demand_diff.plot()"
   ]
  },
  {
   "cell_type": "code",
   "execution_count": 8,
   "metadata": {},
   "outputs": [
    {
     "data": {
      "text/plain": [
       "(366, 1)"
      ]
     },
     "execution_count": 8,
     "metadata": {},
     "output_type": "execute_result"
    }
   ],
   "source": [
    "X = df.values\n",
    "train1 = X[0:336]\n",
    "test1 = X[336:]\n",
    "X.shape"
   ]
  },
  {
   "cell_type": "code",
   "execution_count": 9,
   "metadata": {},
   "outputs": [],
   "source": [
    "model_arima = ARIMA(train1,order=(25,1,1))"
   ]
  },
  {
   "cell_type": "code",
   "execution_count": 10,
   "metadata": {},
   "outputs": [
    {
     "name": "stdout",
     "output_type": "stream",
     "text": [
      "5895.773866770829\n"
     ]
    },
    {
     "name": "stderr",
     "output_type": "stream",
     "text": [
      "C:\\Users\\Aditi\\anaconda3\\lib\\site-packages\\statsmodels\\base\\model.py:568: ConvergenceWarning: Maximum Likelihood optimization failed to converge. Check mle_retvals\n",
      "  \"Check mle_retvals\", ConvergenceWarning)\n"
     ]
    }
   ],
   "source": [
    "model_arima_fit = model_arima.fit()\n",
    "print(model_arima_fit.aic)"
   ]
  },
  {
   "cell_type": "code",
   "execution_count": 21,
   "metadata": {},
   "outputs": [
    {
     "data": {
      "text/plain": [
       "[<matplotlib.lines.Line2D at 0x209bcf72288>]"
      ]
     },
     "execution_count": 21,
     "metadata": {},
     "output_type": "execute_result"
    },
    {
     "data": {
      "image/png": "[encoded data removed]",
      "text/plain": [
       "<Figure size 432x288 with 1 Axes>"
      ]
     },
     "metadata": {
      "needs_background": "light"
     },
     "output_type": "display_data"
    }
   ],
   "source": [
    "y_pred1 = model_arima_fit.forecast(steps=366)[0].tolist()\n",
    "plt.plot(test1)\n",
    "plt.plot(y_pred1 , color = 'red')"
   ]
  },
  {
   "cell_type": "code",
   "execution_count": 22,
   "metadata": {},
   "outputs": [
    {
     "data": {
      "text/plain": [
       "[8293.783865148047,\n",
       " 11610.4674084055,\n",
       " 10000.232798506826,\n",
       " 8406.789807542378,\n",
       " 7923.9382630733835,\n",
       " 10360.776243280561,\n",
       " 9204.913748912115,\n",
       " 4662.463272403011,\n",
       " 2117.217444679005,\n",
       " 1344.2464716858797,\n",
       " 1340.7341977782971,\n",
       " 1429.402041928945,\n",
       " 1257.1802152051403,\n",
       " 1444.3144638015092,\n",
       " 1738.602565356312,\n",
       " 1746.6630058613255,\n",
       " 1812.9294629519377,\n",
       " 1296.9310683453878,\n",
       " 698.6193346895657,\n",
       " 1382.0636914236516,\n",
       " 2018.9945414178683,\n",
       " 2235.906431944587,\n",
       " 1708.764651238309,\n",
       " 1402.6901014560442,\n",
       " 1078.1410129746114,\n",
       " 918.7479781776117,\n",
       " 1674.4219311999418,\n",
       " 2266.408590933167,\n",
       " 2340.6505755638445,\n",
       " 2556.8232905467507,\n",
       " 4562.012463190467,\n",
       " 8173.852505315552,\n",
       " 10225.32732402311,\n",
       " 9866.901566017226,\n",
       " 8911.30069374321,\n",
       " 8553.194668145627,\n",
       " 8143.395385789187,\n",
       " 6489.172718265159,\n",
       " 4154.14501537811,\n",
       " 2506.1763852253644,\n",
       " 1783.9416261592023,\n",
       " 1556.3023700902472,\n",
       " 1544.3544104371906,\n",
       " 1395.4839962252097,\n",
       " 1346.7739094538438,\n",
       " 1547.0098706050667,\n",
       " 1777.6909446637528,\n",
       " 1673.889242791946,\n",
       " 1205.6337647616535,\n",
       " 1061.658412356477,\n",
       " 1485.4347120474179,\n",
       " 2012.6955839457721,\n",
       " 2172.070796716468,\n",
       " 1866.2284730866347,\n",
       " 1334.8907037939084,\n",
       " 877.4336888904606,\n",
       " 971.2233582640159,\n",
       " 1700.0631174796117,\n",
       " 2484.4329733829927,\n",
       " 3104.7072193182457,\n",
       " 4160.8700266900105,\n",
       " 6145.771639714327,\n",
       " 8344.892997459596,\n",
       " 9514.123489726118,\n",
       " 9415.859800802857,\n",
       " 8761.537518363833,\n",
       " 7954.202109939585,\n",
       " 6827.417438835819,\n",
       " 5279.661924792076,\n",
       " 3680.242394598383,\n",
       " 2537.8408888567856,\n",
       " 1981.4195366390236,\n",
       " 1794.8029729269135,\n",
       " 1649.127330074898,\n",
       " 1418.1713385865294,\n",
       " 1304.3107675619628,\n",
       " 1436.168573382449,\n",
       " 1614.1292292695584,\n",
       " 1575.4590293566805,\n",
       " 1398.7006561464295,\n",
       " 1397.8517545288896,\n",
       " 1653.147442603572,\n",
       " 1941.0933516646633,\n",
       " 1994.5358425454767,\n",
       " 1711.002777764563,\n",
       " 1239.696299403445,\n",
       " 961.4028547919388,\n",
       " 1222.2927886343334,\n",
       " 1983.8762644551211,\n",
       " 2937.5612286620053,\n",
       " 4005.4178925074675,\n",
       " 5386.381066811822,\n",
       " 7032.893643138523,\n",
       " 8426.560220633624,\n",
       " 9046.10059782412,\n",
       " 8857.397949714059,\n",
       " 8162.471352691803,\n",
       " 7176.138602647535,\n",
       " 5958.013384264063,\n",
       " 4610.755301924249,\n",
       " 3380.5510333434586,\n",
       " 2520.0900755089897,\n",
       " 2079.09514737836,\n",
       " 1869.5984104156926,\n",
       " 1660.1794637586927,\n",
       " 1420.6416572884937,\n",
       " 1303.0109243424683,\n",
       " 1378.0729650561846,\n",
       " 1520.0538187945683,\n",
       " 1585.789221103721,\n",
       " 1591.4181407264846,\n",
       " 1642.155108338857,\n",
       " 1760.820208125524,\n",
       " 1847.8468822869095,\n",
       " 1772.6807562653664,\n",
       " 1504.925246496449,\n",
       " 1209.9133675929272,\n",
       " 1184.3373970173714,\n",
       " 1624.7999331763494,\n",
       " 2479.939009085121,\n",
       " 3580.782421512367,\n",
       " 4841.891075489438,\n",
       " 6214.98901835461,\n",
       " 7501.9994256683785,\n",
       " 8373.74656395772,\n",
       " 8609.469362574517,\n",
       " 8245.425803256618,\n",
       " 7472.439019351241,\n",
       " 6462.6184533254755,\n",
       " 5326.703706908241,\n",
       " 4182.1307690089,\n",
       " 3192.3527910824378,\n",
       " 2495.6480262386476,\n",
       " 2092.5469225764205,\n",
       " 1844.1245122705948,\n",
       " 1617.2306566094376,\n",
       " 1414.360220655287,\n",
       " 1327.5235161689848,\n",
       " 1390.5991196218654,\n",
       " 1530.657334363441,\n",
       " 1654.3946715760328,\n",
       " 1729.4488244160227,\n",
       " 1770.9775372402516,\n",
       " 1782.0397905678528,\n",
       " 1728.5149667437936,\n",
       " 1578.1353482062145,\n",
       " 1378.23896975022,\n",
       " 1291.0130302558493,\n",
       " 1512.6194638470195,\n",
       " 2134.3836077317346,\n",
       " 3096.4783337305744,\n",
       " 4269.628694550595,\n",
       " 5530.715346351639,\n",
       " 6737.755920161563,\n",
       " 7690.487941858111,\n",
       " 8189.236914475026,\n",
       " 8149.807628016631,\n",
       " 7644.827794313743,\n",
       " 6833.395865862555,\n",
       " 5864.63323965141,\n",
       " 4845.5486168280695,\n",
       " 3871.875947562228,\n",
       " 3047.830841541408,\n",
       " 2445.624980001405,\n",
       " 2050.928792796626,\n",
       " 1779.811796413162,\n",
       " 1565.8449025155455,\n",
       " 1417.3018707960491,\n",
       " 1379.7219137397658,\n",
       " 1459.8056347854315,\n",
       " 1602.6085431689403,\n",
       " 1733.0859771567905,\n",
       " 1803.1883221873802,\n",
       " 1801.3008678804813,\n",
       " 1732.6326389099545,\n",
       " 1606.9244541328949,\n",
       " 1457.8430105519562,\n",
       " 1374.7780521325267,\n",
       " 1494.0472850006656,\n",
       " 1930.2087143176543,\n",
       " 2704.3077356574686,\n",
       " 3737.5167657673765,\n",
       " 4900.2097246838375,\n",
       " 6049.533236231542,\n",
       " 7031.165849714584,\n",
       " 7688.148068776664,\n",
       " 7908.672641247172,\n",
       " 7679.664771465214,\n",
       " 7090.692449346569,\n",
       " 6280.506752858528,\n",
       " 5374.684532484989,\n",
       " 4463.829205293062,\n",
       " 3620.180605268875,\n",
       " 2908.470261633636,\n",
       " 2366.2281827016513,\n",
       " 1982.6002777733904,\n",
       " 1715.3247013348246,\n",
       " 1534.7378378543629,\n",
       " 1444.4921339468706,\n",
       " 1456.9828913591928,\n",
       " 1555.905826568811,\n",
       " 1688.1052668730865,\n",
       " 1789.5915410779814,\n",
       " 1817.856719998983,\n",
       " 1764.9313340797798,\n",
       " 1650.9948012962852,\n",
       " 1517.8685910291265,\n",
       " 1434.1451166798045,\n",
       " 1496.7405415030205,\n",
       " 1804.6631249316476,\n",
       " 2410.3063745903282,\n",
       " 3286.2651298686833,\n",
       " 4334.29468212973,\n",
       " 5420.612696341608,\n",
       " 6404.665622456036,\n",
       " 7153.715523980707,\n",
       " 7560.982051893679,\n",
       " 7575.210191293994,\n",
       " 7222.232466471083,\n",
       " 6594.175343764523,\n",
       " 5808.57694339259,\n",
       " 4967.77618695218,\n",
       " 4145.536154378989,\n",
       " 3396.560640537813,\n",
       " 2763.3933391854052,\n",
       " 2269.1285173458036,\n",
       " 1911.0696608803241,\n",
       " 1671.3092147640025,\n",
       " 1535.55179451479,\n",
       " 1498.131381291295,\n",
       " 1547.6204352366394,\n",
       " 1650.8936234270295,\n",
       " 1755.3311202158557,\n",
       " 1809.8189577205649,\n",
       " 1787.9398657471957,\n",
       " 1697.7437979432289,\n",
       " 1577.7039025760096,\n",
       " 1489.4027406050843,\n",
       " 1511.4842478183548,\n",
       " 1726.4403417115388,\n",
       " 2193.3369164212663,\n",
       " 2917.5214820523297,\n",
       " 3839.0097364959215,\n",
       " 4848.1625814625295,\n",
       " 5815.462683777411,\n",
       " 6617.199226589757,\n",
       " 7152.459790618305,\n",
       " 7358.041000146871,\n",
       " 7222.923859962903,\n",
       " 6792.459651984541,\n",
       " 6152.717869423199,\n",
       " 5400.59343713325,\n",
       " 4618.402486087269,\n",
       " 3866.4121682701248,\n",
       " 3188.5791343563874,\n",
       " 2617.2220616704817,\n",
       " 2170.997841237853,\n",
       " 1853.074942590214,\n",
       " 1655.6915244047882,\n",
       " 1566.6544472140458,\n",
       " 1569.337472742073,\n",
       " 1636.2008145502568,\n",
       " 1725.578578103498,\n",
       " 1790.2523796437924,\n",
       " 1795.3416765929096,\n",
       " 1734.1497306170625,\n",
       " 1632.7590772976698,\n",
       " 1543.8797730976557,\n",
       " 1536.1337873691775,\n",
       " 1681.3027586775147,\n",
       " 2036.9676344431261,\n",
       " 2625.2739035056375,\n",
       " 3417.2443302395654,\n",
       " 4333.6644682442075,\n",
       " 5263.647250130418,\n",
       " 6090.649014657538,\n",
       " 6714.463962931235,\n",
       " 7065.490473707274,\n",
       " 7113.654658828995,\n",
       " 6872.574431004297,\n",
       " 6395.038902258327,\n",
       " 5757.502217209368,\n",
       " 5039.3337193164625,\n",
       " 4307.620814590608,\n",
       " 3613.335489314223,\n",
       " 2994.7281396007756,\n",
       " 2479.9539761001793,\n",
       " 2086.060221274114,\n",
       " 1817.533863903603,\n",
       " 1667.2642296460765,\n",
       " 1618.4097769732784,\n",
       " 1644.5419675160474,\n",
       " 1709.3872038700724,\n",
       " 1770.995194700498,\n",
       " 1792.8844910620114,\n",
       " 1758.2073957529974,\n",
       " 1679.0352510569987,\n",
       " 1595.7091807664701,\n",
       " 1567.542741543222,\n",
       " 1659.3254126365725,\n",
       " 1926.3257432019645,\n",
       " 2398.6546757707647,\n",
       " 3067.92194035351,\n",
       " 3882.2788728604664,\n",
       " 4754.435791176653,\n",
       " 5580.585835453236,\n",
       " 6262.324690708145,\n",
       " 6723.90298791106,\n",
       " 6922.079946171477,\n",
       " 6849.690718305071,\n",
       " 6533.800700275653,\n",
       " 6027.834399614849,\n",
       " 5398.4767786033735,\n",
       " 4711.84487835619,\n",
       " 4024.5997247874207,\n",
       " 3381.8747531952745,\n",
       " 2818.758244894734,\n",
       " 2360.8667833502413,\n",
       " 2022.7342255005835,\n",
       " 1805.9530226051131,\n",
       " 1698.9480501816004,\n",
       " 1678.3204767058114,\n",
       " 1711.1820627371399,\n",
       " 1759.3764933846255,\n",
       " 1787.23140859222,\n",
       " 1772.316793060988,\n",
       " 1715.1463232180743,\n",
       " 1642.6456676770024,\n",
       " 1603.0905115293806,\n",
       " 1654.461618329472,\n",
       " 1850.1120251425552,\n",
       " 2224.84484677669,\n",
       " 2783.569900481562,\n",
       " 3495.2445452078564,\n",
       " 4295.160585621779,\n",
       " 5096.455334582203,\n",
       " 5807.585527823066,\n",
       " 6349.7520404465795,\n",
       " 6669.233987645747,\n",
       " 6742.9947816309505,\n",
       " 6578.517353606544,\n",
       " 6209.161071669497,\n",
       " 5685.943376033555,\n",
       " 5067.403156798976,\n",
       " 4410.505028382019,\n",
       " 3765.199658637527,\n",
       " 3172.745783957752,\n",
       " 2665.4670253613153,\n",
       " 2265.625786259432,\n",
       " 1983.2128167113883,\n",
       " 1814.2421523753212,\n",
       " 1741.0522419115089,\n",
       " 1734.956369048853,\n",
       " 1760.9985912592772,\n",
       " 1784.7747758799223,\n",
       " 1780.998037653467,\n",
       " 1741.989401694821,\n",
       " 1682.7495869193817,\n",
       " 1639.6412666509289,\n",
       " 1662.2650734150868,\n",
       " 1800.9680409411553,\n",
       " 2093.5991628088495,\n",
       " 2554.567773266166,\n",
       " 3168.3583101933264,\n",
       " 3889.1586099706656,\n",
       " 4647.446986128308]"
      ]
     },
     "execution_count": 22,
     "metadata": {},
     "output_type": "execute_result"
    }
   ],
   "source": [
    "y_pred1"
   ]
  },
  {
   "cell_type": "code",
   "execution_count": 12,
   "metadata": {},
   "outputs": [
    {
     "name": "stdout",
     "output_type": "stream",
     "text": [
      "0.9350085714467697\n"
     ]
    }
   ],
   "source": [
    "from sklearn.metrics import r2_score\n",
    "acc = r2_score(test1, y_pred1)\n",
    "print(acc)  #94% accurate"
   ]
  },
  {
   "cell_type": "code",
   "execution_count": 13,
   "metadata": {},
   "outputs": [],
   "source": [
    "import pickle"
   ]
  },
  {
   "cell_type": "code",
   "execution_count": 14,
   "metadata": {},
   "outputs": [],
   "source": [
    "filename='model_groceries.pkl'\n",
    "pickle.dump(model_arima_fit, open(filename, 'wb'))"
   ]
  },
  {
   "cell_type": "code",
   "execution_count": 20,
   "metadata": {},
   "outputs": [],
   "source": [
    "model = pickle.load(open(filename, 'rb'))"
   ]
  },
  {
   "cell_type": "code",
   "execution_count": null,
   "metadata": {},
   "outputs": [],
   "source": []
  }
 ],
 "metadata": {
  "kernelspec": {
   "display_name": "Python 3",
   "language": "python",
   "name": "python3"
  },
  "language_info": {
   "codemirror_mode": {
    "name": "ipython",
    "version": 3
   },
   "file_extension": ".py",
   "mimetype": "text/x-python",
   "name": "python",
   "nbconvert_exporter": "python",
   "pygments_lexer": "ipython3",
   "version": "3.7.6"
  }
 },
 "nbformat": 4,
 "nbformat_minor": 1
}
